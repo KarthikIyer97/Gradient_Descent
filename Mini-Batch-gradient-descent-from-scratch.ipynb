{
 "cells": [
  {
   "cell_type": "code",
   "execution_count": 1,
   "id": "be545310",
   "metadata": {},
   "outputs": [
    {
     "name": "stderr",
     "output_type": "stream",
     "text": [
      "C:\\Users\\karth\\anaconda3\\lib\\site-packages\\scipy\\__init__.py:155: UserWarning: A NumPy version >=1.18.5 and <1.25.0 is required for this version of SciPy (detected version 1.26.2\n",
      "  warnings.warn(f\"A NumPy version >={np_minversion} and <{np_maxversion}\"\n"
     ]
    }
   ],
   "source": [
    "from sklearn.datasets import load_diabetes\n",
    "\n",
    "import numpy as np\n",
    "from sklearn.linear_model import LinearRegression\n",
    "from sklearn.metrics import r2_score\n",
    "from sklearn.model_selection import train_test_split"
   ]
  },
  {
   "cell_type": "code",
   "execution_count": 2,
   "id": "ad0e0cf7",
   "metadata": {},
   "outputs": [],
   "source": [
    "X, y = load_diabetes(return_X_y=True)"
   ]
  },
  {
   "cell_type": "code",
   "execution_count": 3,
   "id": "2e49b35a",
   "metadata": {},
   "outputs": [
    {
     "name": "stdout",
     "output_type": "stream",
     "text": [
      "(442, 10)\n",
      "(442,)\n"
     ]
    }
   ],
   "source": [
    "print(X.shape)\n",
    "print(y.shape)"
   ]
  },
  {
   "cell_type": "code",
   "execution_count": 4,
   "id": "ee7e106e",
   "metadata": {},
   "outputs": [],
   "source": [
    "X_train,X_test,y_train,y_test = train_test_split(X,y,test_size=0.2, random_state = 2)"
   ]
  },
  {
   "cell_type": "code",
   "execution_count": 5,
   "id": "fc09e6d6",
   "metadata": {},
   "outputs": [
    {
     "data": {
      "text/plain": [
       "LinearRegression()"
      ]
     },
     "execution_count": 5,
     "metadata": {},
     "output_type": "execute_result"
    }
   ],
   "source": [
    "reg = LinearRegression()\n",
    "reg.fit(X_train,y_train)"
   ]
  },
  {
   "cell_type": "code",
   "execution_count": 6,
   "id": "610025f8",
   "metadata": {},
   "outputs": [
    {
     "name": "stdout",
     "output_type": "stream",
     "text": [
      "[  -9.16088483 -205.46225988  516.68462383  340.62734108 -895.54360867\n",
      "  561.21453306  153.88478595  126.73431596  861.12139955   52.41982836]\n",
      "151.88334520854633\n"
     ]
    }
   ],
   "source": [
    "print(reg.coef_)\n",
    "print(reg.intercept_)"
   ]
  },
  {
   "cell_type": "code",
   "execution_count": 7,
   "id": "a4e33a26",
   "metadata": {},
   "outputs": [
    {
     "data": {
      "text/plain": [
       "0.4399387660024645"
      ]
     },
     "execution_count": 7,
     "metadata": {},
     "output_type": "execute_result"
    }
   ],
   "source": [
    "y_pred = reg.predict(X_test)\n",
    "r2_score(y_test,y_pred)"
   ]
  },
  {
   "cell_type": "code",
   "execution_count": 40,
   "id": "07cb3a38",
   "metadata": {},
   "outputs": [],
   "source": [
    "import random\n",
    "class MBGDRegressor:\n",
    "    \n",
    "    def __init__(self,batch_size, learning_rate=0.01, epochs=100):\n",
    "        \n",
    "        self.coef_ = None\n",
    "        self.intercept_ = None\n",
    "        self.lr = learning_rate\n",
    "        self.epochs = epochs\n",
    "        self.batch_size = batch_size\n",
    "        \n",
    "    def fit(self, X_train, y_train):\n",
    "        # init your coeffs\n",
    "        self.intercept_ = 0\n",
    "        self.coef_ = np.ones(X_train.shape[1])\n",
    "        \n",
    "        for i in range(self.epochs):\n",
    "            for j in range(int(X_train.shape[0]/self.batch_size)):\n",
    "                idx = random.sample(range(X_train.shape[0]),self.batch_size)\n",
    "                                    \n",
    "                y_hat = np.dot(X_train[idx], self.coef_) + self.intercept_\n",
    "                \n",
    "                intercept_der = -2 * (y_train[idx] - y_hat)\n",
    "                self.intercept_ = self.intercept_ - (self.lr * intercept_der)\n",
    "                \n",
    "                coef_der = -2 * np.dot((y_train[idx]-y_hat),X_train[idx])\n",
    "                self.coef_ = self.coef_ - (self.lr * coef_der)\n",
    "                \n",
    "        \n",
    "        print(self.intercept_, self.coef_)\n",
    "    \n",
    "    def predict(self, X_test):\n",
    "        return np.dot(X_test, self.coef_) + self.intercept_"
   ]
  },
  {
   "cell_type": "code",
   "execution_count": 41,
   "id": "dca1d2e1",
   "metadata": {},
   "outputs": [
    {
     "data": {
      "text/plain": [
       "[88, 26, 45, 46, 13, 56, 98, 25, 30, 18]"
      ]
     },
     "execution_count": 41,
     "metadata": {},
     "output_type": "execute_result"
    }
   ],
   "source": [
    "import random\n",
    "random.sample(range(1,100),10)"
   ]
  },
  {
   "cell_type": "code",
   "execution_count": 42,
   "id": "eb5cd701",
   "metadata": {},
   "outputs": [
    {
     "data": {
      "text/plain": [
       "array([[[-0.02730979,  0.05068012, -0.02345095, -0.01599922,\n",
       "          0.01356652,  0.0127778 ,  0.02655027, -0.00259226,\n",
       "         -0.01090444, -0.02178823],\n",
       "        [-0.02730979,  0.05068012,  0.06061839,  0.04941532,\n",
       "          0.08511607,  0.08636769, -0.00290283,  0.03430886,\n",
       "          0.03781448,  0.04862759],\n",
       "        [-0.04183994, -0.04464164, -0.06656343, -0.04698506,\n",
       "         -0.03734373, -0.04327577,  0.0486401 , -0.03949338,\n",
       "         -0.05615757, -0.01350402],\n",
       "        [ 0.06713621, -0.04464164, -0.03854032, -0.02632783,\n",
       "         -0.03183992, -0.02636575,  0.00814208, -0.03949338,\n",
       "         -0.02712865,  0.00306441],\n",
       "        [ 0.0562386 , -0.04464164, -0.05794093, -0.00796586,\n",
       "          0.0520932 ,  0.04910302,  0.05600338, -0.02141183,\n",
       "         -0.02832024,  0.04448548],\n",
       "        [ 0.11072668,  0.05068012, -0.03315126, -0.02288496,\n",
       "         -0.00432087,  0.02029337, -0.06180903,  0.07120998,\n",
       "          0.01556684,  0.04448548],\n",
       "        [ 0.0090156 , -0.04464164, -0.02021751, -0.0538708 ,\n",
       "          0.03145391,  0.02060651,  0.05600338, -0.03949338,\n",
       "         -0.01090444, -0.0010777 ],\n",
       "        [ 0.04534098,  0.05068012,  0.00564998,  0.05630106,\n",
       "          0.06447678,  0.08918603, -0.03971921,  0.07120998,\n",
       "          0.01556684, -0.00936191],\n",
       "        [ 0.00175052, -0.04464164, -0.00836158, -0.06419941,\n",
       "         -0.03871969, -0.02448686,  0.00446045, -0.03949338,\n",
       "         -0.06468302, -0.05492509],\n",
       "        [ 0.05987114,  0.05068012,  0.05307371,  0.05285819,\n",
       "          0.03282986,  0.01966707, -0.01026611,  0.03430886,\n",
       "          0.05520504, -0.0010777 ]]])"
      ]
     },
     "execution_count": 42,
     "metadata": {},
     "output_type": "execute_result"
    }
   ],
   "source": [
    "X_train[[[73, 34, 30, 55, 42, 20, 87, 10, 95, 81]]]"
   ]
  },
  {
   "cell_type": "code",
   "execution_count": 64,
   "id": "a03de156",
   "metadata": {},
   "outputs": [],
   "source": [
    "mbr = MBGDRegressor(batch_size = int(X_train.shape[0]/50), learning_rate = 0.01, epochs = 40)"
   ]
  },
  {
   "cell_type": "code",
   "execution_count": 65,
   "id": "8a784a48",
   "metadata": {},
   "outputs": [
    {
     "data": {
      "text/plain": [
       "10.0"
      ]
     },
     "execution_count": 65,
     "metadata": {},
     "output_type": "execute_result"
    }
   ],
   "source": [
    "(int(1000)/100)"
   ]
  },
  {
   "cell_type": "code",
   "execution_count": 66,
   "id": "ab054dde",
   "metadata": {},
   "outputs": [
    {
     "data": {
      "text/plain": [
       "(353, 10)"
      ]
     },
     "execution_count": 66,
     "metadata": {},
     "output_type": "execute_result"
    }
   ],
   "source": [
    "X_train.shape\n"
   ]
  },
  {
   "cell_type": "code",
   "execution_count": 62,
   "id": "99484800",
   "metadata": {
    "scrolled": true
   },
   "outputs": [
    {
     "data": {
      "text/plain": [
       "35"
      ]
     },
     "execution_count": 62,
     "metadata": {},
     "output_type": "execute_result"
    }
   ],
   "source": [
    "int(353/10)"
   ]
  },
  {
   "cell_type": "code",
   "execution_count": 67,
   "id": "7b1f16c3",
   "metadata": {},
   "outputs": [
    {
     "name": "stdout",
     "output_type": "stream",
     "text": [
      "[150.92200769 155.65670611 149.07340199 147.93871871 147.60141744\n",
      " 143.87467952 143.67993817] [  58.90538371  -44.8029972   308.49546271  227.0392569    31.15017927\n",
      "   -6.39361489 -166.95163333  131.37343203  291.91357536  120.20047057]\n"
     ]
    }
   ],
   "source": [
    "mbr.fit(X_train, y_train)"
   ]
  },
  {
   "cell_type": "code",
   "execution_count": null,
   "id": "2f7ffcb4",
   "metadata": {},
   "outputs": [],
   "source": []
  },
  {
   "cell_type": "code",
   "execution_count": null,
   "id": "71cedaaa",
   "metadata": {},
   "outputs": [],
   "source": []
  },
  {
   "cell_type": "code",
   "execution_count": null,
   "id": "2da7fc96",
   "metadata": {},
   "outputs": [],
   "source": []
  },
  {
   "cell_type": "code",
   "execution_count": null,
   "id": "39cd797f",
   "metadata": {},
   "outputs": [],
   "source": []
  }
 ],
 "metadata": {
  "kernelspec": {
   "display_name": "Python 3 (ipykernel)",
   "language": "python",
   "name": "python3"
  },
  "language_info": {
   "codemirror_mode": {
    "name": "ipython",
    "version": 3
   },
   "file_extension": ".py",
   "mimetype": "text/x-python",
   "name": "python",
   "nbconvert_exporter": "python",
   "pygments_lexer": "ipython3",
   "version": "3.9.13"
  }
 },
 "nbformat": 4,
 "nbformat_minor": 5
}
